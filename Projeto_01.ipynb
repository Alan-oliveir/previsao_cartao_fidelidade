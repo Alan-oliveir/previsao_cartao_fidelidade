{
  "nbformat": 4,
  "nbformat_minor": 0,
  "metadata": {
    "colab": {
      "provenance": [],
      "collapsed_sections": [
        "Eed_lvxu0h21",
        "_rKyb52i00px",
        "EMBD-tuVJ1lz",
        "YeV88-rFPxck",
        "FawjZTaNU8D7",
        "OwGwdrPGZPSB"
      ],
      "authorship_tag": "ABX9TyOuFDBFCEcdTWWXQEFfnVbT",
      "include_colab_link": true
    },
    "kernelspec": {
      "name": "python3",
      "display_name": "Python 3"
    },
    "language_info": {
      "name": "python"
    }
  },
  "cells": [
    {
      "cell_type": "markdown",
      "metadata": {
        "id": "view-in-github",
        "colab_type": "text"
      },
      "source": [
        "<a href=\"https://colab.research.google.com/github/Alan-oliveir/previsao_cartao_fidelidade/blob/main/Projeto_01.ipynb\" target=\"_parent\"><img src=\"https://colab.research.google.com/assets/colab-badge.svg\" alt=\"Open In Colab\"/></a>"
      ]
    },
    {
      "cell_type": "markdown",
      "source": [
        "## Importando os Dados"
      ],
      "metadata": {
        "id": "Eed_lvxu0h21"
      }
    },
    {
      "cell_type": "code",
      "execution_count": null,
      "metadata": {
        "id": "T4_9dlRae196"
      },
      "outputs": [],
      "source": [
        "# Importar bibliotecas\n",
        "import sqlite3\n",
        "import pandas as pd\n",
        "\n",
        "# Conectar com banco de dados\n",
        "conn = sqlite3.connect( 'database.db' )"
      ]
    },
    {
      "cell_type": "code",
      "source": [
        "# Realizar consulta ao banco de dados\n",
        "consulta_atividade = \"\"\"\n",
        "\n",
        "  SELECT\n",
        "    *\n",
        "  FROM\n",
        "    flight_activity fa LEFT JOIN flight_loyalty_history flh ON (fa.loyalty_number = flh.loyalty_number)\n",
        "\n",
        " \"\"\"\n",
        "df_atividade = pd.read_sql_query( consulta_atividade, conn )\n",
        "\n",
        "# Visualizar consulta\n",
        "df_atividade.head()"
      ],
      "metadata": {
        "id": "xSX1TF5Wf5yM"
      },
      "execution_count": null,
      "outputs": []
    },
    {
      "cell_type": "code",
      "source": [
        "# Fechar conexão com banco de dados\n",
        "conn.close()"
      ],
      "metadata": {
        "id": "LQ8rsGuXfEXP"
      },
      "execution_count": null,
      "outputs": []
    },
    {
      "cell_type": "markdown",
      "source": [
        "## Inspecionando os Dados"
      ],
      "metadata": {
        "id": "_rKyb52i00px"
      }
    },
    {
      "cell_type": "code",
      "source": [
        "# Verificar o número de linhas do dataframe\n",
        "df_atividade.shape[0]"
      ],
      "metadata": {
        "id": "_uL3NiHvADWW"
      },
      "execution_count": null,
      "outputs": []
    },
    {
      "cell_type": "code",
      "source": [
        "# Verificar o número de colunas do dataframe\n",
        "df_atividade.shape[1]"
      ],
      "metadata": {
        "id": "eyltFLB5AhIR"
      },
      "execution_count": null,
      "outputs": []
    },
    {
      "cell_type": "code",
      "source": [
        "# Insights iniciais da estrutura do dataframe\n",
        "df_atividade.info()"
      ],
      "metadata": {
        "id": "zkliGlVIAsvB"
      },
      "execution_count": null,
      "outputs": []
    },
    {
      "cell_type": "code",
      "source": [
        "df_atividade.loc[: , \"distance\"]"
      ],
      "metadata": {
        "id": "IaJS6ibrCGlN"
      },
      "execution_count": null,
      "outputs": []
    },
    {
      "cell_type": "code",
      "source": [
        "# Soma e média da distancia\n",
        "distancia_total = df_atividade.loc[: , \"distance\"].sum()\n",
        "distancia_media = df_atividade.loc[: , \"distance\"].mean()\n",
        "\n",
        "# Mínimo e máximo\n",
        "distancia_min = df_atividade.loc[: , \"distance\"].min()\n",
        "distancia_max = df_atividade.loc[: , \"distance\"].max()\n",
        "\n",
        "print(\"Distância total: \", distancia_total, \"km\")\n",
        "print(\"Distância média: \", distancia_media, \"km\")\n",
        "print(\"Distância mínima: \", distancia_min, \"km\")\n",
        "print(\"Distância máxima: \", distancia_max, \"km\")"
      ],
      "metadata": {
        "id": "rYKsaFEwCWm2"
      },
      "execution_count": null,
      "outputs": []
    },
    {
      "cell_type": "markdown",
      "source": [
        "## Preparação dos Dados"
      ],
      "metadata": {
        "id": "EMBD-tuVJ1lz"
      }
    },
    {
      "cell_type": "code",
      "source": [
        "type (df_atividade)"
      ],
      "metadata": {
        "id": "DNq5gUhwKIVF"
      },
      "execution_count": null,
      "outputs": []
    },
    {
      "cell_type": "code",
      "source": [
        "# Visualizar número de campos nulos nas colunas\n",
        "df_atividade.isna().sum()"
      ],
      "metadata": {
        "id": "lnq0p5JWK5Ru"
      },
      "execution_count": null,
      "outputs": []
    },
    {
      "cell_type": "code",
      "source": [
        "# Selecionar colunas numéricas\n",
        "colunas = [\"year\",\n",
        "           \"month\",\n",
        "           \"flights_booked\",\n",
        "           \"flights_with_companions\",\n",
        "           \"total_flights\",\n",
        "           \"distance\",\n",
        "           \"points_accumulated\",\n",
        "           \"salary\",\n",
        "           \"clv\",\n",
        "           \"loyalty_card\"]\n",
        "\n",
        "df_colunas_numericas = df_atividade.loc[: , colunas]"
      ],
      "metadata": {
        "id": "db_OwLrgLT9m"
      },
      "execution_count": null,
      "outputs": []
    },
    {
      "cell_type": "code",
      "source": [
        "# Remover linhas com dados faltantes\n",
        "df_dados_completos = df_colunas_numericas.dropna()"
      ],
      "metadata": {
        "id": "G_ET_aITLTxR"
      },
      "execution_count": null,
      "outputs": []
    },
    {
      "cell_type": "code",
      "source": [
        "# Verificar dados faltantes\n",
        "df_dados_completos.isna().sum()"
      ],
      "metadata": {
        "id": "kNXbNtZlLgk7"
      },
      "execution_count": null,
      "outputs": []
    },
    {
      "cell_type": "code",
      "source": [
        "df_dados_completos.shape[0]"
      ],
      "metadata": {
        "id": "QKsv6UQoPiCh"
      },
      "execution_count": null,
      "outputs": []
    },
    {
      "cell_type": "markdown",
      "source": [
        "## Machine Learning"
      ],
      "metadata": {
        "id": "YeV88-rFPxck"
      }
    },
    {
      "cell_type": "code",
      "source": [
        "df_dados_completos.head()"
      ],
      "metadata": {
        "id": "5trg55-4Rznf"
      },
      "execution_count": null,
      "outputs": []
    },
    {
      "cell_type": "code",
      "source": [
        "# Importar biblioteca tree\n",
        "from sklearn import tree as tr\n",
        "\n",
        "x_atributos = df_dados_completos.drop(columns=\"loyalty_card\")\n",
        "y_rotulo = df_dados_completos.loc[:, \"loyalty_card\"]\n",
        "\n",
        "# Definição do algoritmo\n",
        "modelo = tr.DecisionTreeClassifier(max_depth=5)\n",
        "\n",
        "# Treinamento do algoritmo\n",
        "modelo_treinado = modelo.fit(x_atributos, y_rotulo)"
      ],
      "metadata": {
        "id": "dgrbzceDP1ot"
      },
      "execution_count": null,
      "outputs": []
    },
    {
      "cell_type": "code",
      "source": [
        "tr.plot_tree(modelo_treinado, filled=True);"
      ],
      "metadata": {
        "id": "Qy_8m1NuTxqC"
      },
      "execution_count": null,
      "outputs": []
    },
    {
      "cell_type": "markdown",
      "source": [
        "## Apresentação dos Resultados"
      ],
      "metadata": {
        "id": "FawjZTaNU8D7"
      }
    },
    {
      "cell_type": "code",
      "source": [
        "x_novo = x_atributos.sample()\n",
        "pred = modelo_treinado.predict_proba(x_novo)\n",
        "\n",
        "print(\"Probabilidades: Aurora = {:.1%}, Nova = {:.1%} e Star = {:.1%}.\".format(pred[0][0], pred[0][1], pred[0][2]))"
      ],
      "metadata": {
        "id": "YOhyOC03VDXb"
      },
      "execution_count": null,
      "outputs": []
    },
    {
      "cell_type": "markdown",
      "source": [
        "## Painel de Visualização"
      ],
      "metadata": {
        "id": "OwGwdrPGZPSB"
      }
    },
    {
      "cell_type": "code",
      "source": [
        "!pip install gradio"
      ],
      "metadata": {
        "id": "iNVNpqSKbSHG"
      },
      "execution_count": null,
      "outputs": []
    },
    {
      "cell_type": "code",
      "source": [
        "import gradio as gr\n",
        "import numpy as np"
      ],
      "metadata": {
        "id": "lG5Pg8SgZhCA"
      },
      "execution_count": null,
      "outputs": []
    },
    {
      "cell_type": "code",
      "source": [
        "def predict(*args):\n",
        "  x_novo = np.array([args]).reshape(1, -1)\n",
        "  previsao = modelo_treinado.predict_proba(x_novo)\n",
        "  return{\"Aurora\":previsao[0][0], \"Nova\":previsao[0][1], \"Star\":previsao[0][2]}\n",
        "\n",
        "with gr.Blocks() as demo:\n",
        "  # Título do painel\n",
        "  gr.Markdown(\"\"\" # Propensão de Compra \"\"\")\n",
        "\n",
        "  with gr.Row():\n",
        "    with gr.Column():\n",
        "      gr.Markdown(\"\"\" # Atributos do cliente \"\"\")\n",
        "      year =                    gr.Slider(label=\"year\", minimum=2017, maximum=2018, step=1, randomize=True)\n",
        "      month =                   gr.Slider(label=\"month\", minimum=1, maximum=12, step=1, randomize=True)\n",
        "      flights_booked =          gr.Slider(label=\"flights_booked\", minimum=0, maximum=21, step=1, randomize=True)\n",
        "      flights_with_companions = gr.Slider(label=\"flights_with_companions\", minimum=0, maximum=11, step=1, randomize=True)\n",
        "      total_flights =           gr.Slider(label=\"total_flights\", minimum=0, maximum=32, step=1, randomize=True)\n",
        "      distance =                gr.Slider(label=\"distance\", minimum=0, maximum=6293, step=1, randomize=True)\n",
        "      points_accumulated =      gr.Slider(label=\"points_accumulated\", minimum=0.00, maximum=676.50, step=0.1, randomize=True)\n",
        "      salary =                  gr.Slider(label=\"salary\", minimum=58486.00, maximum=407228.00, step=0.1, randomize=True)\n",
        "      clv =                     gr.Slider(label=\"clv\", minimum=2119.89, maximum=83325.38, step=0.1, randomize=True)\n",
        "\n",
        "      with gr.Row():\n",
        "\n",
        "        with gr.Row():\n",
        "          gr.Markdown(\"\"\" # Botão de Previsao \"\"\")\n",
        "          predict_btn = gr.Button(value=\"Previsao\")\n",
        "\n",
        "    with gr.Column():\n",
        "      gr.Markdown(\"\"\" # Propensão de Compra do Cliente \"\"\")\n",
        "      label = gr.Label()\n",
        "\n",
        "  # Botão predict\n",
        "  predict_btn.click(\n",
        "      fn = predict,\n",
        "      inputs = [\n",
        "          year,\n",
        "          month,\n",
        "          flights_booked,\n",
        "          flights_with_companions,\n",
        "          total_flights,\n",
        "          distance,\n",
        "          points_accumulated,\n",
        "          salary,\n",
        "          clv\n",
        "          ],\n",
        "      outputs = [label])\n",
        "\n",
        "demo.launch()"
      ],
      "metadata": {
        "id": "M91PEeFeZkR4"
      },
      "execution_count": null,
      "outputs": []
    }
  ]
}